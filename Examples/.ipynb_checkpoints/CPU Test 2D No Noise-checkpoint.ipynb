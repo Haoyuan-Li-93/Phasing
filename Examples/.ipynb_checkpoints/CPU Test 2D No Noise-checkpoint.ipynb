{
 "cells": [
  {
   "cell_type": "code",
   "execution_count": 1,
   "metadata": {
    "scrolled": false
   },
   "outputs": [
    {
     "data": {
      "text/html": [
       "<style>.container { width:95% !important; }</style>"
      ],
      "text/plain": [
       "<IPython.core.display.HTML object>"
      ]
     },
     "metadata": {},
     "output_type": "display_data"
    }
   ],
   "source": [
    "import sys\n",
    "import os\n",
    "from IPython.core.display import display, HTML\n",
    "\n",
    "#os.environ['NUMBAPRO_CUDALIB']=r\"C:\\Users\\hyli\\Anaconda3\\envs\\python36\\Library\\bin\"\n",
    "os.environ['NUMBAPRO_CUDALIB']=r\"C:\\Users\\hyli93\\Miniconda3\\envs\\py3gpu\\Library\\bin\"\n",
    "\n",
    "sys.path.append('C:/Users/hyli93/Documents/GitHub/Phasing/')\n",
    "display(HTML(\"<style>.container { width:95% !important; }</style>\"))\n",
    "\n",
    "\n",
    "import numpy as np\n",
    "import matplotlib.pyplot as plt\n",
    "from scipy import ndimage\n",
    "import PhaseTool"
   ]
  },
  {
   "cell_type": "markdown",
   "metadata": {},
   "source": [
    "# Create a smooth object"
   ]
  },
  {
   "cell_type": "code",
   "execution_count": 2,
   "metadata": {},
   "outputs": [
    {
     "data": {
      "image/png": "[encoded data removed]",
      "text/plain": [
       "<Figure size 576x432 with 2 Axes>"
      ]
     },
     "metadata": {
      "needs_background": "light"
     },
     "output_type": "display_data"
    }
   ],
   "source": [
    "sample = PhaseTool.util.get_smooth_sample()\n",
    "\n",
    "fig = plt.figure(figsize=(8,6))\n",
    "plt.imshow(sample, cmap='jet')\n",
    "plt.colorbar()\n",
    "plt.show()"
   ]
  },
  {
   "cell_type": "code",
   "execution_count": 30,
   "metadata": {},
   "outputs": [],
   "source": [
    "import numba\n",
    "from numba import float64, int64, void"
   ]
  },
  {
   "cell_type": "code",
   "execution_count": 33,
   "metadata": {},
   "outputs": [],
   "source": [
    "#@numba.jit(void(float64[:, :], int64[:], int64, int64), nopython=True, parallel=True)\n",
    "def create_disk(space, center, radius, radius_square):\n",
    "    \"\"\"\n",
    "    This function create a disk.\n",
    "\n",
    "    :param space:\n",
    "    :param center:\n",
    "    :param radius:\n",
    "    :param radius_square:\n",
    "    :return:\n",
    "    \"\"\"\n",
    "    for l in range(- radius, radius):\n",
    "        for m in range( - radius, radius):\n",
    "            if l * l + m * m <= radius_square:\n",
    "                space[l + center[0], m + center[1]] += 1.\n",
    "\n",
    "\n",
    "def get_smooth_sample(space_length=128, support_length=48, obj_num=50):\n",
    "    \"\"\"\n",
    "    This function returns a smooth sample for test.\n",
    "    :param space_length:\n",
    "    :param support_length:\n",
    "    :param obj_num:\n",
    "    :return:\n",
    "    \"\"\"\n",
    "    # Step 1: Get the center of the space and change the format.\n",
    "    obj_num = int(obj_num)\n",
    "    center = (int(space_length / 2.), int(space_length / 2.0))\n",
    "\n",
    "    # Step 2: Generate 50 random center position and 50 random length\n",
    "    center_list = np.random.randint(low=center[0] - int(support_length / 2.0),\n",
    "                                    high=center[0] + int(support_length / 2.0),\n",
    "                                    size=(obj_num, 2),\n",
    "                                    dtype=np.int64)\n",
    "    radius_list = np.random.randint(low=1, high=5, size=obj_num)\n",
    "    radius_square = np.square(radius_list)\n",
    "\n",
    "    # Step 3: Use the create_disk function to create these objects in the space\n",
    "    space = np.zeros((space_length, space_length), dtype=np.float64)\n",
    "\n",
    "    for l in range(obj_num):\n",
    "        space = create_disk(space=space,\n",
    "                            center=center_list[l],\n",
    "                            radius=radius_list[l],\n",
    "                            radius_square=radius_square[l])\n",
    "\n",
    "    ndimage.gaussian_filter(input=space, sigma=2, output=space)\n",
    "    return space\n"
   ]
  },
  {
   "cell_type": "code",
   "execution_count": 34,
   "metadata": {},
   "outputs": [
    {
     "ename": "TypeError",
     "evalue": "'NoneType' object is not subscriptable",
     "output_type": "error",
     "traceback": [
      "\u001b[1;31m---------------------------------------------------------------------------\u001b[0m",
      "\u001b[1;31mTypeError\u001b[0m                                 Traceback (most recent call last)",
      "\u001b[1;32m<ipython-input-34-1e20236b2f5c>\u001b[0m in \u001b[0;36m<module>\u001b[1;34m\u001b[0m\n\u001b[1;32m----> 1\u001b[1;33m \u001b[0msample\u001b[0m\u001b[1;33m=\u001b[0m \u001b[0mget_smooth_sample\u001b[0m\u001b[1;33m(\u001b[0m\u001b[1;33m)\u001b[0m\u001b[1;33m\u001b[0m\u001b[1;33m\u001b[0m\u001b[0m\n\u001b[0m\u001b[0;32m      2\u001b[0m \u001b[1;33m\u001b[0m\u001b[0m\n\u001b[0;32m      3\u001b[0m \u001b[0mfig\u001b[0m \u001b[1;33m=\u001b[0m \u001b[0mplt\u001b[0m\u001b[1;33m.\u001b[0m\u001b[0mfigure\u001b[0m\u001b[1;33m(\u001b[0m\u001b[0mfigsize\u001b[0m\u001b[1;33m=\u001b[0m\u001b[1;33m(\u001b[0m\u001b[1;36m8\u001b[0m\u001b[1;33m,\u001b[0m\u001b[1;36m6\u001b[0m\u001b[1;33m)\u001b[0m\u001b[1;33m)\u001b[0m\u001b[1;33m\u001b[0m\u001b[1;33m\u001b[0m\u001b[0m\n\u001b[0;32m      4\u001b[0m \u001b[0mplt\u001b[0m\u001b[1;33m.\u001b[0m\u001b[0mimshow\u001b[0m\u001b[1;33m(\u001b[0m\u001b[0msample\u001b[0m\u001b[1;33m,\u001b[0m \u001b[0mcmap\u001b[0m\u001b[1;33m=\u001b[0m\u001b[1;34m'jet'\u001b[0m\u001b[1;33m)\u001b[0m\u001b[1;33m\u001b[0m\u001b[1;33m\u001b[0m\u001b[0m\n\u001b[0;32m      5\u001b[0m \u001b[0mplt\u001b[0m\u001b[1;33m.\u001b[0m\u001b[0mcolorbar\u001b[0m\u001b[1;33m(\u001b[0m\u001b[1;33m)\u001b[0m\u001b[1;33m\u001b[0m\u001b[1;33m\u001b[0m\u001b[0m\n",
      "\u001b[1;32m<ipython-input-33-9f7f0002ac5b>\u001b[0m in \u001b[0;36mget_smooth_sample\u001b[1;34m(space_length, support_length, obj_num)\u001b[0m\n\u001b[0;32m     43\u001b[0m                             \u001b[0mcenter\u001b[0m\u001b[1;33m=\u001b[0m\u001b[0mcenter_list\u001b[0m\u001b[1;33m[\u001b[0m\u001b[0ml\u001b[0m\u001b[1;33m]\u001b[0m\u001b[1;33m,\u001b[0m\u001b[1;33m\u001b[0m\u001b[1;33m\u001b[0m\u001b[0m\n\u001b[0;32m     44\u001b[0m                             \u001b[0mradius\u001b[0m\u001b[1;33m=\u001b[0m\u001b[0mradius_list\u001b[0m\u001b[1;33m[\u001b[0m\u001b[0ml\u001b[0m\u001b[1;33m]\u001b[0m\u001b[1;33m,\u001b[0m\u001b[1;33m\u001b[0m\u001b[1;33m\u001b[0m\u001b[0m\n\u001b[1;32m---> 45\u001b[1;33m                             radius_square=radius_square[l])\n\u001b[0m\u001b[0;32m     46\u001b[0m \u001b[1;33m\u001b[0m\u001b[0m\n\u001b[0;32m     47\u001b[0m     \u001b[0mndimage\u001b[0m\u001b[1;33m.\u001b[0m\u001b[0mgaussian_filter\u001b[0m\u001b[1;33m(\u001b[0m\u001b[0minput\u001b[0m\u001b[1;33m=\u001b[0m\u001b[0mspace\u001b[0m\u001b[1;33m,\u001b[0m \u001b[0msigma\u001b[0m\u001b[1;33m=\u001b[0m\u001b[1;36m2\u001b[0m\u001b[1;33m,\u001b[0m \u001b[0moutput\u001b[0m\u001b[1;33m=\u001b[0m\u001b[0mspace\u001b[0m\u001b[1;33m)\u001b[0m\u001b[1;33m\u001b[0m\u001b[1;33m\u001b[0m\u001b[0m\n",
      "\u001b[1;32m<ipython-input-33-9f7f0002ac5b>\u001b[0m in \u001b[0;36mcreate_disk\u001b[1;34m(space, center, radius, radius_square)\u001b[0m\n\u001b[0;32m     13\u001b[0m         \u001b[1;32mfor\u001b[0m \u001b[0mm\u001b[0m \u001b[1;32min\u001b[0m \u001b[0mrange\u001b[0m\u001b[1;33m(\u001b[0m \u001b[1;33m-\u001b[0m \u001b[0mradius\u001b[0m\u001b[1;33m,\u001b[0m \u001b[0mradius\u001b[0m\u001b[1;33m)\u001b[0m\u001b[1;33m:\u001b[0m\u001b[1;33m\u001b[0m\u001b[1;33m\u001b[0m\u001b[0m\n\u001b[0;32m     14\u001b[0m             \u001b[1;32mif\u001b[0m \u001b[0ml\u001b[0m \u001b[1;33m*\u001b[0m \u001b[0ml\u001b[0m \u001b[1;33m+\u001b[0m \u001b[0mm\u001b[0m \u001b[1;33m*\u001b[0m \u001b[0mm\u001b[0m \u001b[1;33m<=\u001b[0m \u001b[0mradius_square\u001b[0m\u001b[1;33m:\u001b[0m\u001b[1;33m\u001b[0m\u001b[1;33m\u001b[0m\u001b[0m\n\u001b[1;32m---> 15\u001b[1;33m                 \u001b[0mspace\u001b[0m\u001b[1;33m[\u001b[0m\u001b[0ml\u001b[0m \u001b[1;33m+\u001b[0m \u001b[0mcenter\u001b[0m\u001b[1;33m[\u001b[0m\u001b[1;36m0\u001b[0m\u001b[1;33m]\u001b[0m\u001b[1;33m,\u001b[0m \u001b[0mm\u001b[0m \u001b[1;33m+\u001b[0m \u001b[0mcenter\u001b[0m\u001b[1;33m[\u001b[0m\u001b[1;36m1\u001b[0m\u001b[1;33m]\u001b[0m\u001b[1;33m]\u001b[0m \u001b[1;33m+=\u001b[0m \u001b[1;36m1.\u001b[0m\u001b[1;33m\u001b[0m\u001b[1;33m\u001b[0m\u001b[0m\n\u001b[0m\u001b[0;32m     16\u001b[0m \u001b[1;33m\u001b[0m\u001b[0m\n\u001b[0;32m     17\u001b[0m \u001b[1;33m\u001b[0m\u001b[0m\n",
      "\u001b[1;31mTypeError\u001b[0m: 'NoneType' object is not subscriptable"
     ]
    }
   ],
   "source": [
    "sample= get_smooth_sample()\n",
    "\n",
    "fig = plt.figure(figsize=(8,6))\n",
    "plt.imshow(sample, cmap='jet')\n",
    "plt.colorbar()\n",
    "plt.show()"
   ]
  },
  {
   "cell_type": "code",
   "execution_count": 28,
   "metadata": {},
   "outputs": [
    {
     "data": {
      "text/plain": [
       "array([1, 1, 1, 6, 2, 3, 6, 2, 4, 1, 6, 5, 8, 2, 1, 8, 4, 2, 5, 1, 7, 5,\n",
       "       1, 6, 7, 1, 2, 7, 8, 7, 5, 7, 6, 6, 1, 8, 2, 7, 8, 6, 6, 1, 4, 2,\n",
       "       1, 8, 6, 3, 2, 4])"
      ]
     },
     "execution_count": 28,
     "metadata": {},
     "output_type": "execute_result"
    }
   ],
   "source": [
    "a"
   ]
  },
  {
   "cell_type": "code",
   "execution_count": null,
   "metadata": {},
   "outputs": [],
   "source": []
  }
 ],
 "metadata": {
  "kernelspec": {
   "display_name": "Python 3",
   "language": "python",
   "name": "python3"
  },
  "language_info": {
   "codemirror_mode": {
    "name": "ipython",
    "version": 3
   },
   "file_extension": ".py",
   "mimetype": "text/x-python",
   "name": "python",
   "nbconvert_exporter": "python",
   "pygments_lexer": "ipython3",
   "version": "3.6.7"
  }
 },
 "nbformat": 4,
 "nbformat_minor": 2
}
