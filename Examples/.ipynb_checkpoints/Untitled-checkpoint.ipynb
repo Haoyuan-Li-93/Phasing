{
 "cells": [
  {
   "cell_type": "code",
   "execution_count": 1,
   "metadata": {},
   "outputs": [],
   "source": [
    "import numpy as np"
   ]
  },
  {
   "cell_type": "code",
   "execution_count": 20,
   "metadata": {},
   "outputs": [],
   "source": [
    "t = np.transpose(np.stack([np.random.rand(15) for x in range(3)]))"
   ]
  },
  {
   "cell_type": "code",
   "execution_count": 21,
   "metadata": {},
   "outputs": [
    {
     "name": "stdout",
     "output_type": "stream",
     "text": [
      "[[0.6458298  0.88850455 0.85394492]\n",
      " [0.33914513 0.36915689 0.92250899]\n",
      " [0.19232147 0.60542552 0.29949924]\n",
      " [0.06382939 0.6491643  0.55156611]\n",
      " [0.36416643 0.04371006 0.99969509]\n",
      " [0.80775396 0.10742737 0.32824976]\n",
      " [0.99594862 0.57165969 0.58248626]\n",
      " [0.78864569 0.04871693 0.85061628]\n",
      " [0.74804302 0.27642775 0.87142106]\n",
      " [0.26729118 0.9914618  0.31214045]\n",
      " [0.49367141 0.08369907 0.97954148]\n",
      " [0.74952797 0.27016735 0.13610207]\n",
      " [0.06629016 0.36310258 0.45149961]\n",
      " [0.1015014  0.32066072 0.54557865]\n",
      " [0.16429999 0.87504892 0.55471732]]\n"
     ]
    }
   ],
   "source": [
    "print(t)"
   ]
  },
  {
   "cell_type": "code",
   "execution_count": 18,
   "metadata": {},
   "outputs": [
    {
     "data": {
      "text/plain": [
       "(15, 3)"
      ]
     },
     "execution_count": 18,
     "metadata": {},
     "output_type": "execute_result"
    }
   ],
   "source": [
    "t.shape"
   ]
  },
  {
   "cell_type": "code",
   "execution_count": null,
   "metadata": {},
   "outputs": [],
   "source": []
  }
 ],
 "metadata": {
  "kernelspec": {
   "display_name": "Python 3",
   "language": "python",
   "name": "python3"
  },
  "language_info": {
   "codemirror_mode": {
    "name": "ipython",
    "version": 3
   },
   "file_extension": ".py",
   "mimetype": "text/x-python",
   "name": "python",
   "nbconvert_exporter": "python",
   "pygments_lexer": "ipython3",
   "version": "3.6.7"
  }
 },
 "nbformat": 4,
 "nbformat_minor": 2
}
